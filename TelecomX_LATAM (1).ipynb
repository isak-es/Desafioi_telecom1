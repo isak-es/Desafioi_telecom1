{
  "nbformat": 4,
  "nbformat_minor": 0,
  "metadata": {
    "colab": {
      "provenance": []
    },
    "kernelspec": {
      "name": "python3",
      "display_name": "Python 3"
    },
    "language_info": {
      "name": "python"
    }
  },
  "cells": [
    {
      "cell_type": "markdown",
      "source": [
        "#📌 Extracción"
      ],
      "metadata": {
        "id": "4foVEKhrlqcH"
      }
    },
    {
      "cell_type": "code",
      "source": [
        "import pandas as pd\n",
        "import json\n",
        "\n",
        "with open('/content/TelecomX_Data.json') as f:\n",
        "    raw_data = json.load(f)\n",
        "\n",
        "df_raw = pd.json_normalize(raw_data)\n",
        "\n",
        "\n"
      ],
      "metadata": {
        "id": "1--uPM88l7JH",
        "colab": {
          "base_uri": "https://localhost:8080/"
        },
        "outputId": "d641bb1c-ba24-418a-e63b-6b7f68ba190c"
      },
      "execution_count": 10,
      "outputs": [
        {
          "output_type": "stream",
          "name": "stdout",
          "text": [
            "Index(['customerID', 'Churn', 'customer.gender', 'customer.SeniorCitizen',\n",
            "       'customer.Partner', 'customer.Dependents', 'customer.tenure',\n",
            "       'phone.PhoneService', 'phone.MultipleLines', 'internet.InternetService',\n",
            "       'internet.OnlineSecurity', 'internet.OnlineBackup',\n",
            "       'internet.DeviceProtection', 'internet.TechSupport',\n",
            "       'internet.StreamingTV', 'internet.StreamingMovies', 'account.Contract',\n",
            "       'account.PaperlessBilling', 'account.PaymentMethod',\n",
            "       'account.Charges.Monthly', 'account.Charges.Total'],\n",
            "      dtype='object')\n",
            "   customerID Churn customer.gender  customer.SeniorCitizen customer.Partner  \\\n",
            "0  0002-ORFBO    No          Female                       0              Yes   \n",
            "1  0003-MKNFE    No            Male                       0               No   \n",
            "2  0004-TLHLJ   Yes            Male                       0               No   \n",
            "\n",
            "  customer.Dependents  customer.tenure phone.PhoneService phone.MultipleLines  \\\n",
            "0                 Yes                9                Yes                  No   \n",
            "1                  No                9                Yes                 Yes   \n",
            "2                  No                4                Yes                  No   \n",
            "\n",
            "  internet.InternetService  ... internet.OnlineBackup  \\\n",
            "0                      DSL  ...                   Yes   \n",
            "1                      DSL  ...                    No   \n",
            "2              Fiber optic  ...                    No   \n",
            "\n",
            "  internet.DeviceProtection internet.TechSupport internet.StreamingTV  \\\n",
            "0                        No                  Yes                  Yes   \n",
            "1                        No                   No                   No   \n",
            "2                       Yes                   No                   No   \n",
            "\n",
            "  internet.StreamingMovies account.Contract account.PaperlessBilling  \\\n",
            "0                       No         One year                      Yes   \n",
            "1                      Yes   Month-to-month                       No   \n",
            "2                       No   Month-to-month                      Yes   \n",
            "\n",
            "  account.PaymentMethod account.Charges.Monthly  account.Charges.Total  \n",
            "0          Mailed check                    65.6                  593.3  \n",
            "1          Mailed check                    59.9                  542.4  \n",
            "2      Electronic check                    73.9                 280.85  \n",
            "\n",
            "[3 rows x 21 columns]\n",
            "<class 'pandas.core.frame.DataFrame'>\n",
            "RangeIndex: 7267 entries, 0 to 7266\n",
            "Data columns (total 21 columns):\n",
            " #   Column                     Non-Null Count  Dtype  \n",
            "---  ------                     --------------  -----  \n",
            " 0   customerID                 7267 non-null   object \n",
            " 1   Churn                      7267 non-null   object \n",
            " 2   customer.gender            7267 non-null   object \n",
            " 3   customer.SeniorCitizen     7267 non-null   int64  \n",
            " 4   customer.Partner           7267 non-null   object \n",
            " 5   customer.Dependents        7267 non-null   object \n",
            " 6   customer.tenure            7267 non-null   int64  \n",
            " 7   phone.PhoneService         7267 non-null   object \n",
            " 8   phone.MultipleLines        7267 non-null   object \n",
            " 9   internet.InternetService   7267 non-null   object \n",
            " 10  internet.OnlineSecurity    7267 non-null   object \n",
            " 11  internet.OnlineBackup      7267 non-null   object \n",
            " 12  internet.DeviceProtection  7267 non-null   object \n",
            " 13  internet.TechSupport       7267 non-null   object \n",
            " 14  internet.StreamingTV       7267 non-null   object \n",
            " 15  internet.StreamingMovies   7267 non-null   object \n",
            " 16  account.Contract           7267 non-null   object \n",
            " 17  account.PaperlessBilling   7267 non-null   object \n",
            " 18  account.PaymentMethod      7267 non-null   object \n",
            " 19  account.Charges.Monthly    7267 non-null   float64\n",
            " 20  account.Charges.Total      7267 non-null   object \n",
            "dtypes: float64(1), int64(2), object(18)\n",
            "memory usage: 1.2+ MB\n",
            "None\n"
          ]
        }
      ]
    },
    {
      "cell_type": "markdown",
      "source": [
        "#🔧 Transformación"
      ],
      "metadata": {
        "id": "1lSZP8zmmGZu"
      }
    },
    {
      "cell_type": "code",
      "source": [
        "import logging\n",
        "\n",
        "logging.basicConfig(filename='telecomx_etl.log', level=logging.INFO)\n",
        "\n",
        "# Diagnóstico\n",
        "mem_mb = df.memory_usage(deep=True).sum() / (1024**2)\n",
        "print(f\"Memoria total: {mem_mb:.2f} MB\")\n",
        "logging.info(f'Memoria total: {mem_mb:.2f} MB')\n",
        "\n",
        "# Limpieza\n",
        "low_variance = [col for col in df.columns if df[col].nunique() <= 1]\n",
        "high_cardinality = [col for col in df.columns if df[col].nunique() > 1000]\n",
        "nested_cols = [col for col in df.columns if df[col].apply(lambda x: isinstance(x, (list, dict))).any()]\n",
        "cols_to_drop = list(set(low_variance + high_cardinality + nested_cols))\n",
        "\n",
        "df_clean = df.drop(columns=cols_to_drop)\n",
        "logging.info(f'Columnas eliminadas: {len(cols_to_drop)}')\n"
      ],
      "metadata": {
        "colab": {
          "base_uri": "https://localhost:8080/"
        },
        "id": "rPFIboXjoy0i",
        "outputId": "c85c14f8-276f-40cb-cb9a-b0275be1b687"
      },
      "execution_count": 16,
      "outputs": [
        {
          "output_type": "stream",
          "name": "stdout",
          "text": [
            "Memoria total: 95.97 MB\n"
          ]
        }
      ]
    },
    {
      "cell_type": "markdown",
      "source": [
        "#📊 Carga y análisis"
      ],
      "metadata": {
        "id": "6XnTC2NTmMRL"
      }
    },
    {
      "cell_type": "code",
      "source": [
        "df_clean.to_csv('telecomx_reducido.csv', index=False)\n",
        "logging.info('Archivo telecomx_reducido.csv guardado exitosamente')\n",
        "\n"
      ],
      "metadata": {
        "id": "1jgUnLqTmPdd"
      },
      "execution_count": 17,
      "outputs": []
    },
    {
      "cell_type": "code",
      "source": [
        "from sklearn.model_selection import train_test_split\n",
        "from sklearn.ensemble import RandomForestClassifier\n",
        "from sklearn.metrics import classification_report\n",
        "\n",
        "X = df_clean.drop('Churn_Yes', axis=1)\n",
        "y = df_clean['Churn_Yes']\n",
        "\n",
        "X_train, X_test, y_train, y_test = train_test_split(X, y, test_size=0.2, random_state=42)\n",
        "\n",
        "model = RandomForestClassifier()\n",
        "model.fit(X_train, y_train)\n",
        "\n",
        "y_pred = model.predict(X_test)\n",
        "print(classification_report(y_test, y_pred))"
      ],
      "metadata": {
        "colab": {
          "base_uri": "https://localhost:8080/"
        },
        "id": "qy0A67C_pAzR",
        "outputId": "1cb552df-034c-4f15-dc26-6aa610a3c2e0"
      },
      "execution_count": 19,
      "outputs": [
        {
          "output_type": "stream",
          "name": "stdout",
          "text": [
            "              precision    recall  f1-score   support\n",
            "\n",
            "       False       0.96      0.97      0.97      1082\n",
            "        True       0.92      0.88      0.90       372\n",
            "\n",
            "    accuracy                           0.95      1454\n",
            "   macro avg       0.94      0.93      0.93      1454\n",
            "weighted avg       0.95      0.95      0.95      1454\n",
            "\n"
          ]
        }
      ]
    },
    {
      "cell_type": "markdown",
      "source": [
        "#📄Informe final"
      ],
      "metadata": {
        "id": "v-WzfSvTmaw9"
      }
    },
    {
      "cell_type": "code",
      "source": [
        "importances = pd.Series(model.feature_importances_, index=X.columns)\n",
        "top_features = importances.sort_values(ascending=False).head(10)\n",
        "print(\"Variables más influyentes en el churn:\")\n",
        "print(top_features)\n"
      ],
      "metadata": {
        "id": "XMTac0YJmeK9",
        "colab": {
          "base_uri": "https://localhost:8080/"
        },
        "outputId": "eb7d0128-afba-416f-d4f8-ead5805f0e3a"
      },
      "execution_count": 20,
      "outputs": [
        {
          "output_type": "stream",
          "name": "stdout",
          "text": [
            "Variables más influyentes en el churn:\n",
            "Churn_No                          0.331478\n",
            "tenure                            0.058509\n",
            "InternetService_Fiber optic       0.018920\n",
            "PaymentMethod_Electronic check    0.017039\n",
            "Contract_Two year                 0.014868\n",
            "TechSupport_Yes                   0.013447\n",
            "OnlineSecurity_Yes                0.012570\n",
            "Contract_One year                 0.011576\n",
            "PaperlessBilling_Yes              0.008558\n",
            "OnlineBackup_Yes                  0.008473\n",
            "dtype: float64\n"
          ]
        }
      ]
    },
    {
      "cell_type": "markdown",
      "source": [
        "#Informe final\n",
        "##teniendo en cuenta las variables: tipo de contrato, metodo de pago, servicios contratados, tenure y Churn_no las remendaciones son:                                                     -incentiivar contratos largos\n",
        "##-mejorar servicios de soporte y seguridad\n",
        "## -fidelizacion de clientes nuevos\n",
        "## -monitorear clientes con pago electronico"
      ],
      "metadata": {
        "id": "rhipFmLWrEGF"
      }
    }
  ]
}